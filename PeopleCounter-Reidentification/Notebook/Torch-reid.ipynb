{
 "metadata": {
  "language_info": {
   "codemirror_mode": {
    "name": "ipython",
    "version": 3
   },
   "file_extension": ".py",
   "mimetype": "text/x-python",
   "name": "python",
   "nbconvert_exporter": "python",
   "pygments_lexer": "ipython3",
   "version": 3
  },
  "orig_nbformat": 2
 },
 "nbformat": 4,
 "nbformat_minor": 2,
 "cells": [
  {
   "cell_type": "code",
   "execution_count": null,
   "metadata": {},
   "outputs": [],
   "source": [
    "import tarfile\n",
    "import boto3\n",
    "import torchreid\n",
    "import torch\n",
    "\n",
    "## If import torchreid fails, please go back to README.md and ensure the \"python setup.py develop\" command was successful\n"
   ]
  },
  {
   "cell_type": "code",
   "execution_count": null,
   "metadata": {},
   "outputs": [],
   "source": [
    "# Download the datasets prior to initializing the data manager\n",
    "# For instructions on downloading the dataset, please follow the instructions @ https://kaiyangzhou.github.io/deep-person-reid/datasets.html#datasets \n",
    "# This example uses Market 1501 dataset and hte CUHK dataset\n",
    "datamanager = torchreid.data.ImageDataManager(\n",
    "    root='reid-data',\n",
    "    sources=['market1501', 'cuhk03'],\n",
    "    height=256,\n",
    "    width=128,\n",
    "    batch_size_train=32,\n",
    "    batch_size_test=100,\n",
    "    transforms=['random_flip', 'random_crop'])"
   ]
  },
  {
   "cell_type": "code",
   "execution_count": null,
   "metadata": {},
   "outputs": [],
   "source": [
    "# You can list all the available models using the command \n",
    "# torchreid.models.show_avai_models()\n",
    "\n",
    "# This example is using RESNET50 with ADAM optimizer\n",
    "model = torchreid.models.build_model(\n",
    "    name='resnet50',\n",
    "    num_classes=datamanager.num_train_pids,\n",
    "    loss='softmax',\n",
    "    pretrained=True\n",
    ")\n",
    "model = model.cuda()\n",
    "\n",
    "optimizer = torchreid.optim.build_optimizer(\n",
    "    model,\n",
    "    optim='adam',\n",
    "    lr=0.0003\n",
    ")\n",
    "\n",
    "scheduler = torchreid.optim.build_lr_scheduler(\n",
    "    optimizer,\n",
    "    lr_scheduler='single_step',\n",
    "    stepsize=20\n",
    ")\n",
    "\n",
    "engine = torchreid.engine.ImageSoftmaxEngine(\n",
    "    datamanager,\n",
    "    model,\n",
    "    optimizer=optimizer,\n",
    "    scheduler=scheduler,\n",
    "    label_smooth=True\n",
    ")"
   ]
  },
  {
   "cell_type": "code",
   "execution_count": null,
   "metadata": {},
   "outputs": [],
   "source": [
    "# You can run the engine using \n",
    "# For more options, please visit https://kaiyangzhou.github.io/deep-person-reid/pkg/engine.html\n",
    "engine.run(\n",
    "    save_dir='log/resnet50',\n",
    "    max_epoch=60,\n",
    "    eval_freq=10,\n",
    "    print_freq=10,\n",
    "    test_only=False\n",
    ")"
   ]
  },
  {
   "cell_type": "code",
   "execution_count": null,
   "metadata": {},
   "outputs": [],
   "source": [
    "# Now the model is ready to be exported for use in Panorama\n",
    "# Specify the input (Batch Size=1, Channel=2, Heigth=256, Width=128)\n",
    "inp = torch.rand([1, 3, 256, 128])\n",
    "model.eval()\n",
    "model_trace = torch.jit.trace(model.to('cuda'), inp.to('cuda'))\n",
    "torch.jit.save(model_trace, 'model.pth')\n",
    "\n",
    "with tarfile.open('model.tar.gz', 'w:gz') as f:\n",
    "    f.add('model.pth')\n",
    "f.close()\n",
    "\n",
    "bucket = 'aws-panorama-<YOUR BUCKET NAME>'\n",
    "desired_object_name = 'reid_model_v1.tar.gz'\n",
    "s3 = boto3.resource('s3')\n",
    "s3.meta.client.upload_file('model.tar.gz', bucket, desired_object_name)"
   ]
  }
 ]
}